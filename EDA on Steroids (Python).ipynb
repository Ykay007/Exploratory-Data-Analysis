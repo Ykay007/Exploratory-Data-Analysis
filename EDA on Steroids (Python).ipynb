{
 "cells": [
  {
   "cell_type": "code",
   "execution_count": 2,
   "metadata": {},
   "outputs": [],
   "source": [
    "# Import libraries\n",
    "import xlrd\n",
    "import pandas as pd\n",
    "import numpy as np\n",
    "import seaborn as sns"
   ]
  },
  {
   "cell_type": "code",
   "execution_count": 3,
   "metadata": {},
   "outputs": [],
   "source": [
    "# Import file\n",
    "df = pd.read_excel(\"C:/Users/CynYDie/Desktop/Austral/Regresión Avanzada/Final/wbdata.xlsx\")"
   ]
  },
  {
   "cell_type": "code",
   "execution_count": 5,
   "metadata": {},
   "outputs": [
    {
     "name": "stdout",
     "output_type": "stream",
     "text": [
      "<class 'pandas.core.frame.DataFrame'>\n",
      "RangeIndex: 215 entries, 0 to 214\n",
      "Data columns (total 10 columns):\n",
      "country                 215 non-null object\n",
      "population              214 non-null float64\n",
      "surface                 213 non-null float64\n",
      "population.dens         212 non-null float64\n",
      "national.income         192 non-null float64\n",
      "national.income.cap     192 non-null float64\n",
      "purchasing.power        192 non-null float64\n",
      "purchasing.power.cap    192 non-null float64\n",
      "gdp                     203 non-null float64\n",
      "gdp.cap                 203 non-null float64\n",
      "dtypes: float64(9), object(1)\n",
      "memory usage: 16.9+ KB\n"
     ]
    }
   ],
   "source": [
    "# Describe dataset\n",
    "df.head()\n",
    "df.describe()\n",
    "df.shape\n",
    "df.dtypes\n",
    "df.info()"
   ]
  },
  {
   "cell_type": "code",
   "execution_count": 6,
   "metadata": {},
   "outputs": [
    {
     "name": "stdout",
     "output_type": "stream",
     "text": [
      "country                  0\n",
      "population               1\n",
      "surface                  2\n",
      "population.dens          3\n",
      "national.income         23\n",
      "national.income.cap     23\n",
      "purchasing.power        23\n",
      "purchasing.power.cap    23\n",
      "gdp                     12\n",
      "gdp.cap                 12\n",
      "dtype: int64\n"
     ]
    }
   ],
   "source": [
    "# MISSING VALUES\n",
    "\n",
    "# Look for missing values\n",
    "print(df.isnull().sum())"
   ]
  },
  {
   "cell_type": "code",
   "execution_count": null,
   "metadata": {},
   "outputs": [],
   "source": []
  }
 ],
 "metadata": {
  "kernelspec": {
   "display_name": "Python 3",
   "language": "python",
   "name": "python3"
  },
  "language_info": {
   "codemirror_mode": {
    "name": "ipython",
    "version": 3
   },
   "file_extension": ".py",
   "mimetype": "text/x-python",
   "name": "python",
   "nbconvert_exporter": "python",
   "pygments_lexer": "ipython3",
   "version": "3.6.6"
  }
 },
 "nbformat": 4,
 "nbformat_minor": 2
}
